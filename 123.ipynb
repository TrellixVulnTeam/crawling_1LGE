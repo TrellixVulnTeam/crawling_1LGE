{
 "cells": [
  {
   "cell_type": "code",
   "execution_count": 1,
   "metadata": {
    "pycharm": {
     "is_executing": false
    }
   },
   "outputs": [],
   "source": [
    "from selenium import webdriver\n",
    "from selenium.common.exceptions import NoSuchElementException\n",
    "from urllib.error import HTTPError\n",
    "from bs4 import BeautifulSoup\n",
    "import pandas as pd\n",
    "import urllib.request\n",
    "product_file_path = '/home/soohyeon/'\n",
    "product_file_name = 'test.txt'\n",
    "\n",
    "#-*- coding:utf-8 -*-\n",
    "import sys\n",
    "food_id = list()\n",
    "food_city = list()\n",
    "food_category = list()\n",
    "food_small_category = list()\n",
    "food_name = list()\n",
    "food_call_num = list()\n",
    "food_date = list()\n",
    "food_location = list()\n",
    "food_picture_url = list()\n",
    "food_menu = list()"
   ]
  },
  {
   "cell_type": "code",
   "execution_count": 2,
   "metadata": {
    "pycharm": {
     "is_executing": false,
     "name": "#%%\n"
    }
   },
   "outputs": [],
   "source": [
    "def make_request():\n",
    "\n",
    "    product_file = open(product_file_path + product_file_name, 'r')\n",
    "    \n",
    "\n",
    "    for product_code in product_file.readlines():\n",
    "        try:\n",
    "            driver = webdriver.Chrome('/home/soohyeon/다운로드/chromedriver')\n",
    "\n",
    "            url = 'https://search.naver.com/search.naver?sm=top_hty&fbm=1&ie=utf8&query=' + product_code\n",
    "\n",
    "            driver.get(url)\n",
    "\n",
    "            driver.implicitly_wait(1)\n",
    "            \n",
    "           \n",
    "            # food_name.append(driver.find_element_by_css_selector(\"#place_main_ct > div > div > div.sc_box.default > div.ct_box_area > div.biz_name_area > a\").text)\n",
    "            city(driver,\"#place_main_ct > div > div > div.sc_box.default > div.ct_box_area > div.bizinfo_area > div > div.list_item.list_item_address > div > ul > li:nth-child(1) > span\",food_city)\n",
    "            name(driver,\"#place_main_ct > div > div > div.sc_box.default > div.ct_box_area > div.biz_name_area > a\",food_name,product_code)\n",
    "            test(driver,\"#place_main_ct > div > div > div.sc_box.default > div.ct_box_area > div.biz_name_area > span\",food_small_category)\n",
    "            test(driver,\"#place_main_ct > div > div > div.sc_box.default > div.ct_box_area > div.bizinfo_area > div > div.list_item.list_item_biztel > div\",food_call_num)\n",
    "            test(driver,\"#place_main_ct > div > div > div.sc_box.default > div.ct_box_area > div.bizinfo_area > div > div.list_item.list_item_biztime > div\",food_date)\n",
    "            menu(driver,\"#place_main_ct > div > div > div.sc_box.default > div.ct_box_area > div.bizinfo_area > div > div.list_item.list_item_menu > div\",food_menu)\n",
    "            location(driver,\"#place_main_ct > div > div > div.sc_box.default > div.ct_box_area > div.bizinfo_area > div > div.list_item.list_item_address > div > ul > li:nth-child(1) > span\"\n",
    "                    ,\"#place_main_ct > div > div > div.sc_box.default > div.ct_box_area > div.bizinfo_area > div > div.list_item.list_item_address > div > ul > li:nth-child(2) > span.addr\",food_location)\n",
    "            picture(driver,\"#place_main_ct > div > div > div.sc_box.default > div.top_photo_area.type_v4 > div:nth-child(1) > a > img\",food_picture_url)\n",
    "           \n",
    "            # print(driver.find_element_by_css_selector(\"#place_main_ct\").text)\n",
    "\n",
    "            # print(driver.find_element_by_css_selector(\"#place_main_ct > div > div > div.sc_box.default > div.ct_box_area > div.biz_name_area > a\").text)\n",
    "\n",
    "            # print(driver.find_element_by_css_selector(\"#place_main_ct > div > div > div.sc_box.default > div.ct_box_area > div.biz_name_area > span\").text)\n",
    "            # print(driver.find_element_by_css_selector(\"#place_main_ct > div > div > div.sc_box.default > div.ct_box_area > div.bizinfo_area > div > div.list_item.list_item_biztel > div\").text)\n",
    "            # print(driver.find_element_by_css_selector(\"#place_main_ct > div > div > div.sc_box.default > div.ct_box_area > div.bizinfo_area > div > div.list_item.list_item_address > div > ul > li:nth-child(1) > span\").text\n",
    "            #       + driver.find_element_by_css_selector(\"#place_main_ct > div > div > div.sc_box.default > div.ct_box_area > div.bizinfo_area > div > div.list_item.list_item_address > div > ul > li:nth-child(2) > span.addr\").text)\n",
    "            # print(driver.find_element_by_css_selector(\"#place_main_ct > div > div > div.sc_box.default > div.ct_box_area > div.bizinfo_area > div > div.list_item.list_item_menu > div\").text)\n",
    "            # url =driver.find_element_by_css_selector(\"#place_main_ct > div > div > div.sc_box.default > div.top_photo_area.type_v4 > div:nth-child(1) > a > img\").text\n",
    "            \n",
    "        except :\n",
    "            subSearch(driver,product_code)\n",
    "            print(\"no\")\n",
    "            # food_name.append(product_code)\n",
    "            # food_city.append(\"null\")\n",
    "            # food_small_category.append(\"null\")\n",
    "            # food_call_num.append(\"null\")\n",
    "            # food_date.append(\"null\")\n",
    "            # food_menu.append(\"null\")\n",
    "            # food_location.append(\"null\")\n",
    "            # food_picture_url.append(\"null\")\n",
    "            pass\n",
    "        driver.close()\n",
    "    product_file.close()\n"
   ]
  },
  {
   "cell_type": "code",
   "execution_count": 3,
   "metadata": {
    "pycharm": {
     "is_executing": false,
     "name": "#%%\n"
    }
   },
   "outputs": [],
   "source": [
    "def test(driver, selector, list):\n",
    "    try:\n",
    "        list.append(driver.find_element_by_css_selector(selector).text)\n",
    "    except NoSuchElementException:\n",
    "        list.append(\"null\")\n",
    "        pass\n",
    "def location(driver,selector1,selector2,list):\n",
    "    try:\n",
    "        list.append(driver.find_element_by_css_selector(selector1).text + driver.find_element_by_css_selector(selector2).text)\n",
    "    except NoSuchElementException:\n",
    "        list.append(\"null\")\n",
    "        pass\n",
    "def picture(driver,selector,list):\n",
    "    try:\n",
    "        url1 = driver.find_element_by_css_selector(selector)\n",
    "        a =url1.get_attribute(\"src\")\n",
    "        list.append(a)\n",
    "    except NoSuchElementException:\n",
    "        list.append(\"null\")\n",
    "        pass\n",
    "def city(driver, selector,list1):\n",
    "    try:\n",
    "        a = driver.find_element_by_css_selector(selector).text\n",
    "        list= a.split()\n",
    "        list1.append(list[1])\n",
    "    except NoSuchElementException:\n",
    "        list1.append(\"null\")\n",
    "        pass\n",
    "def menu(driver,selector,lis):\n",
    "    try:\n",
    "        a = driver.find_element_by_css_selector(selector).text\n",
    "        list1 = a.split()\n",
    "        list2 = list()\n",
    "        for i in list1:\n",
    "            if i == list1[-2] :\n",
    "                break\n",
    "            list2.append(i)\n",
    "        lis.append(list2)\n",
    "        del list2\n",
    "    except NoSuchElementException:\n",
    "        lis.append(\"null\")\n",
    "        pass\n",
    "def name(driver,selector,list,name):\n",
    "    try:\n",
    "        list.append(driver.find_element_by_css_selector(selector).text)\n",
    "    except NoSuchElementException:\n",
    "        list.append(name)\n",
    "        pass\n"
   ]
  },
  {
   "cell_type": "code",
   "execution_count": 49,
   "metadata": {
    "pycharm": {
     "is_executing": false,
     "name": "#%%\n"
    }
   },
   "outputs": [
    {
     "name": "stdout",
     "output_type": "stream",
     "text": [
      "5\n",
      "5\n",
      "5\n",
      "5\n",
      "5\n",
      "4\n",
      "4\n"
     ]
    }
   ],
   "source": [
    "print(len(food_small_category))\n",
    "print(len(food_name))\n",
    "print(len(food_call_num))\n",
    "print(len(food_date))\n",
    "print(len(food_menu))\n",
    "print(len(food_location))\n",
    "print(len(food_picture_url))\n",
    "\n"
   ]
  },
  {
   "cell_type": "code",
   "execution_count": 51,
   "metadata": {
    "pycharm": {
     "is_executing": false,
     "name": "#%%\n"
    }
   },
   "outputs": [],
   "source": [
    "row_date = {\n",
    "    'food_city' : food_city,\n",
    "    'food_small_category' : food_small_category,\n",
    "    'food_name' : food_name,\n",
    "    'food_location' : food_location,\n",
    "    'food_call_num' : food_call_num,\n",
    "    'food_date' : food_date,\n",
    "    'food_menu' : food_menu,\n",
    "    'food_picture_url' : food_picture_url\n",
    "}\n",
    "df = pd.DataFrame(row_date,columns=['id','food_city','food_small_category','food_name','food_location','food_call_num','food_date','food_menu','food_picture_url'])\n",
    "df.to_csv(\"test1.csv\")\n"
   ]
  },
  {
   "cell_type": "code",
   "execution_count": 8,
   "metadata": {
    "pycharm": {
     "is_executing": false,
     "name": "#%%\n"
    }
   },
   "outputs": [],
   "source": [
    "df = pd.read_csv(\"test.csv\")\n"
   ]
  },
  {
   "cell_type": "code",
   "execution_count": 9,
   "metadata": {
    "pycharm": {
     "is_executing": false,
     "name": "#%%\n"
    },
    "scrolled": true
   },
   "outputs": [
    {
     "data": {
      "text/html": [
       "<div>\n",
       "<style scoped>\n",
       "    .dataframe tbody tr th:only-of-type {\n",
       "        vertical-align: middle;\n",
       "    }\n",
       "\n",
       "    .dataframe tbody tr th {\n",
       "        vertical-align: top;\n",
       "    }\n",
       "\n",
       "    .dataframe thead th {\n",
       "        text-align: right;\n",
       "    }\n",
       "</style>\n",
       "<table border=\"1\" class=\"dataframe\">\n",
       "  <thead>\n",
       "    <tr style=\"text-align: right;\">\n",
       "      <th></th>\n",
       "      <th>Unnamed: 0</th>\n",
       "      <th>food_city</th>\n",
       "      <th>food_small_category</th>\n",
       "      <th>food_name</th>\n",
       "      <th>food_location</th>\n",
       "      <th>food_call_num</th>\n",
       "      <th>food_date</th>\n",
       "      <th>food_menu</th>\n",
       "      <th>food_picture_url</th>\n",
       "    </tr>\n",
       "  </thead>\n",
       "  <tbody>\n",
       "    <tr>\n",
       "      <td>0</td>\n",
       "      <td>0</td>\n",
       "      <td>제주시</td>\n",
       "      <td>초밥,롤</td>\n",
       "      <td>황금손가락</td>\n",
       "      <td>제주 제주시 구남동1길 44아라이동 3012-1</td>\n",
       "      <td>064-723-3888</td>\n",
       "      <td>평일 15:00 - 17:00브레이크타임(주말없음)\\n매일 11:30 - 10:00...</td>\n",
       "      <td>['12,000원', '모듬초밥(13p)', '15,000원', '특초밥(13p)'...</td>\n",
       "      <td>https://search.pstatic.net/common/?autoRotate=...</td>\n",
       "    </tr>\n",
       "    <tr>\n",
       "      <td>1</td>\n",
       "      <td>1</td>\n",
       "      <td>제주시</td>\n",
       "      <td>생선회</td>\n",
       "      <td>용출횟집</td>\n",
       "      <td>제주 제주시 서해안로 660용담3동 505 용두암1차현대아파트</td>\n",
       "      <td>064-742-9244</td>\n",
       "      <td>매일 12:00 - 21:00명절 당일 휴무</td>\n",
       "      <td>['변동', '황동', '1kg', '변동', '광어', '4인', '변동', '우...</td>\n",
       "      <td>https://search.pstatic.net/common/?autoRotate=...</td>\n",
       "    </tr>\n",
       "    <tr>\n",
       "      <td>2</td>\n",
       "      <td>2</td>\n",
       "      <td>제주시</td>\n",
       "      <td>한식</td>\n",
       "      <td>정성듬뿍제주국</td>\n",
       "      <td>제주 제주시 무근성7길 16삼도2동 1069-2</td>\n",
       "      <td>064-755-9388</td>\n",
       "      <td>일요일 휴무</td>\n",
       "      <td>['8,000원', '몸국', '8,000원', '각재기국', '8,000원', '...</td>\n",
       "      <td>NaN</td>\n",
       "    </tr>\n",
       "    <tr>\n",
       "      <td>3</td>\n",
       "      <td>3</td>\n",
       "      <td>NaN</td>\n",
       "      <td>NaN</td>\n",
       "      <td>NaN</td>\n",
       "      <td>NaN</td>\n",
       "      <td>NaN</td>\n",
       "      <td>NaN</td>\n",
       "      <td>NaN</td>\n",
       "      <td>NaN</td>\n",
       "    </tr>\n",
       "    <tr>\n",
       "      <td>4</td>\n",
       "      <td>4</td>\n",
       "      <td>제주시</td>\n",
       "      <td>국수</td>\n",
       "      <td>골막식당</td>\n",
       "      <td>제주 제주시 천수로 12이도2동 362-1</td>\n",
       "      <td>064-753-6949</td>\n",
       "      <td>일요일 휴무\\n매일 07:00 - 19:00</td>\n",
       "      <td>['6,000원', '골막국수', '7,000원', '골막국수(곱배기', ')', ...</td>\n",
       "      <td>https://search.pstatic.net/common/?autoRotate=...</td>\n",
       "    </tr>\n",
       "  </tbody>\n",
       "</table>\n",
       "</div>"
      ],
      "text/plain": [
       "   Unnamed: 0 food_city food_small_category food_name  \\\n",
       "0           0       제주시                초밥,롤     황금손가락   \n",
       "1           1       제주시                 생선회      용출횟집   \n",
       "2           2       제주시                  한식   정성듬뿍제주국   \n",
       "3           3       NaN                 NaN       NaN   \n",
       "4           4       제주시                  국수      골막식당   \n",
       "\n",
       "                        food_location food_call_num  \\\n",
       "0          제주 제주시 구남동1길 44아라이동 3012-1  064-723-3888   \n",
       "1  제주 제주시 서해안로 660용담3동 505 용두암1차현대아파트  064-742-9244   \n",
       "2          제주 제주시 무근성7길 16삼도2동 1069-2  064-755-9388   \n",
       "3                                 NaN           NaN   \n",
       "4             제주 제주시 천수로 12이도2동 362-1  064-753-6949   \n",
       "\n",
       "                                           food_date  \\\n",
       "0  평일 15:00 - 17:00브레이크타임(주말없음)\\n매일 11:30 - 10:00...   \n",
       "1                           매일 12:00 - 21:00명절 당일 휴무   \n",
       "2                                             일요일 휴무   \n",
       "3                                                NaN   \n",
       "4                           일요일 휴무\\n매일 07:00 - 19:00   \n",
       "\n",
       "                                           food_menu  \\\n",
       "0  ['12,000원', '모듬초밥(13p)', '15,000원', '특초밥(13p)'...   \n",
       "1  ['변동', '황동', '1kg', '변동', '광어', '4인', '변동', '우...   \n",
       "2  ['8,000원', '몸국', '8,000원', '각재기국', '8,000원', '...   \n",
       "3                                                NaN   \n",
       "4  ['6,000원', '골막국수', '7,000원', '골막국수(곱배기', ')', ...   \n",
       "\n",
       "                                    food_picture_url  \n",
       "0  https://search.pstatic.net/common/?autoRotate=...  \n",
       "1  https://search.pstatic.net/common/?autoRotate=...  \n",
       "2                                                NaN  \n",
       "3                                                NaN  \n",
       "4  https://search.pstatic.net/common/?autoRotate=...  "
      ]
     },
     "execution_count": 9,
     "metadata": {},
     "output_type": "execute_result"
    }
   ],
   "source": [
    "df.head()"
   ]
  },
  {
   "cell_type": "code",
   "execution_count": 17,
   "metadata": {
    "pycharm": {
     "is_executing": false,
     "name": "#%%\n"
    }
   },
   "outputs": [
    {
     "data": {
      "text/plain": [
       "56"
      ]
     },
     "execution_count": 17,
     "metadata": {},
     "output_type": "execute_result"
    }
   ],
   "source": [
    "df['food_name'].isnull().sum()"
   ]
  },
  {
   "cell_type": "code",
   "execution_count": 4,
   "metadata": {
    "pycharm": {
     "is_executing": false,
     "name": "#%%\n"
    }
   },
   "outputs": [],
   "source": [
    "def subSearch(driver,product_code):\n",
    "    try:\n",
    "        a = driver.find_element_by_xpath('//*[@id=\"sp_local_1\"]/dl/dt/a') \n",
    "        a.click()\n",
    "        driver.implicitly_wait(1)\n",
    "\n",
    "        food_name.append(driver.find_element_by_css_selector(\"#content > div:nth-child(1) > div.biz_name_area > strong\").text)\n",
    "        food_small_category.append(driver.find_element_by_css_selector(\"#content > div:nth-child(1) > div.biz_name_area > span\").text)\n",
    "        food_picture_url.append(driver.find_element_by_css_selector(\"#content > div:nth-child(1) > div.biz_name_area > span\").get_attribute(\"src\"))\n",
    "        food_menu.append(driver.find_element_by_css_selector(\"#content > div:nth-child(2) > div.bizinfo_area > div > div.list_item.list_item_menu > div\").text)\n",
    "        food_date.append(driver.find_element_by_css_selector(\"#content > div:nth-child(2) > div.bizinfo_area > div > div.list_item.list_item_biztime > div > div > div\").text)\n",
    "        food_call_num.append(driver.find_element_by_css_selector(\"#content > div:nth-child(2) > div.bizinfo_area > div > div.list_item.list_item_biztel > div\").text)\n",
    "        food_location.append(driver.find_element_by_css_selector(\"#content > div:nth-child(2) > div.bizinfo_area > div > div.list_item.list_item_address > div > ul > li:nth-child(1) > span\")+driver.find_element_by_css_selector(\"#content > div:nth-child(2) > div.bizinfo_area > div > div.list_item.list_item_address > div > ul > li:nth-child(2) > span.addr\").text)\n",
    "    except NoSuchElementException:\n",
    "        pass"
   ]
  },
  {
   "cell_type": "code",
   "execution_count": 5,
   "metadata": {
    "pycharm": {
     "is_executing": false,
     "name": "#%%\n"
    }
   },
   "outputs": [
    {
     "traceback": [
      "\u001b[0;31m---------------------------------------------------------------------------\u001b[0m",
      "\u001b[0;31mAttributeError\u001b[0m                            Traceback (most recent call last)",
      "\u001b[0;32m<ipython-input-2-4e4c6369f8f0>\u001b[0m in \u001b[0;36mmake_request\u001b[0;34m()\u001b[0m\n\u001b[1;32m     22\u001b[0m             \u001b[0mtest\u001b[0m\u001b[0;34m(\u001b[0m\u001b[0mdriver\u001b[0m\u001b[0;34m,\u001b[0m\u001b[0;34m\"#place_main_ct > div > div > div.sc_box.default > div.ct_box_area > div.bizinfo_area > div > div.list_item.list_item_biztime > div\"\u001b[0m\u001b[0;34m,\u001b[0m\u001b[0mfood_date\u001b[0m\u001b[0;34m)\u001b[0m\u001b[0;34m\u001b[0m\u001b[0;34m\u001b[0m\u001b[0m\n\u001b[0;32m---> 23\u001b[0;31m             \u001b[0mmenu\u001b[0m\u001b[0;34m(\u001b[0m\u001b[0mdriver\u001b[0m\u001b[0;34m,\u001b[0m\u001b[0;34m\"#place_main_ct > div > div > div.sc_box.default > div.ct_box_area > div.bizinfo_area > div > div.list_item.list_item_menu > div\"\u001b[0m\u001b[0;34m,\u001b[0m\u001b[0mfood_menu\u001b[0m\u001b[0;34m)\u001b[0m\u001b[0;34m\u001b[0m\u001b[0;34m\u001b[0m\u001b[0m\n\u001b[0m\u001b[1;32m     24\u001b[0m             location(driver,\"#place_main_ct > div > div > div.sc_box.default > div.ct_box_area > div.bizinfo_area > div > div.list_item.list_item_address > div > ul > li:nth-child(1) > span\"\n",
      "\u001b[0;32m<ipython-input-3-4c40c5545c0d>\u001b[0m in \u001b[0;36mmenu\u001b[0;34m(driver, selector, lis)\u001b[0m\n\u001b[1;32m     30\u001b[0m     \u001b[0;32mtry\u001b[0m\u001b[0;34m:\u001b[0m\u001b[0;34m\u001b[0m\u001b[0;34m\u001b[0m\u001b[0m\n\u001b[0;32m---> 31\u001b[0;31m         \u001b[0ma\u001b[0m \u001b[0;34m=\u001b[0m \u001b[0mdriver\u001b[0m\u001b[0;34m.\u001b[0m\u001b[0mfind_element_by_css_selector\u001b[0m\u001b[0;34m(\u001b[0m\u001b[0mselector\u001b[0m\u001b[0;34m)\u001b[0m\u001b[0;34m.\u001b[0m\u001b[0mtext\u001b[0m\u001b[0;34m\u001b[0m\u001b[0;34m\u001b[0m\u001b[0m\n\u001b[0m\u001b[1;32m     32\u001b[0m         \u001b[0mlist1\u001b[0m \u001b[0;34m=\u001b[0m \u001b[0ma\u001b[0m\u001b[0;34m.\u001b[0m\u001b[0msplit\u001b[0m\u001b[0;34m(\u001b[0m\u001b[0;34m)\u001b[0m\u001b[0;34m\u001b[0m\u001b[0;34m\u001b[0m\u001b[0m\n",
      "\u001b[0;31mAttributeError\u001b[0m: 'NoneType' object has no attribute 'text'",
      "\nDuring handling of the above exception, another exception occurred:\n",
      "\u001b[0;31mNoSuchWindowException\u001b[0m                     Traceback (most recent call last)",
      "\u001b[0;32m<ipython-input-5-d847637d0903>\u001b[0m in \u001b[0;36m<module>\u001b[0;34m\u001b[0m\n\u001b[0;32m----> 1\u001b[0;31m \u001b[0mmake_request\u001b[0m\u001b[0;34m(\u001b[0m\u001b[0;34m)\u001b[0m\u001b[0;34m\u001b[0m\u001b[0;34m\u001b[0m\u001b[0m\n\u001b[0m\u001b[1;32m      2\u001b[0m \u001b[0;34m\u001b[0m\u001b[0m\n\u001b[1;32m      3\u001b[0m \u001b[0;34m\u001b[0m\u001b[0m\n\u001b[1;32m      4\u001b[0m \u001b[0;34m\u001b[0m\u001b[0m\n\u001b[1;32m      5\u001b[0m \u001b[0;34m\u001b[0m\u001b[0m\n",
      "\u001b[0;32m<ipython-input-2-4e4c6369f8f0>\u001b[0m in \u001b[0;36mmake_request\u001b[0;34m()\u001b[0m\n\u001b[1;32m     38\u001b[0m \u001b[0;34m\u001b[0m\u001b[0m\n\u001b[1;32m     39\u001b[0m         \u001b[0;32mexcept\u001b[0m \u001b[0;34m:\u001b[0m\u001b[0;34m\u001b[0m\u001b[0;34m\u001b[0m\u001b[0m\n\u001b[0;32m---> 40\u001b[0;31m             \u001b[0msubSearch\u001b[0m\u001b[0;34m(\u001b[0m\u001b[0mdriver\u001b[0m\u001b[0;34m,\u001b[0m\u001b[0mproduct_code\u001b[0m\u001b[0;34m)\u001b[0m\u001b[0;34m\u001b[0m\u001b[0;34m\u001b[0m\u001b[0m\n\u001b[0m\u001b[1;32m     41\u001b[0m             \u001b[0mprint\u001b[0m\u001b[0;34m(\u001b[0m\u001b[0;34m\"no\"\u001b[0m\u001b[0;34m)\u001b[0m\u001b[0;34m\u001b[0m\u001b[0;34m\u001b[0m\u001b[0m\n\u001b[1;32m     42\u001b[0m             \u001b[0;31m# food_name.append(product_code)\u001b[0m\u001b[0;34m\u001b[0m\u001b[0;34m\u001b[0m\u001b[0;34m\u001b[0m\u001b[0m\n",
      "\u001b[0;32m<ipython-input-4-34dc6e8dfd6d>\u001b[0m in \u001b[0;36msubSearch\u001b[0;34m(driver, product_code)\u001b[0m\n\u001b[1;32m      1\u001b[0m \u001b[0;32mdef\u001b[0m \u001b[0msubSearch\u001b[0m\u001b[0;34m(\u001b[0m\u001b[0mdriver\u001b[0m\u001b[0;34m,\u001b[0m\u001b[0mproduct_code\u001b[0m\u001b[0;34m)\u001b[0m\u001b[0;34m:\u001b[0m\u001b[0;34m\u001b[0m\u001b[0;34m\u001b[0m\u001b[0m\n\u001b[1;32m      2\u001b[0m     \u001b[0;32mtry\u001b[0m\u001b[0;34m:\u001b[0m\u001b[0;34m\u001b[0m\u001b[0;34m\u001b[0m\u001b[0m\n\u001b[0;32m----> 3\u001b[0;31m         \u001b[0ma\u001b[0m \u001b[0;34m=\u001b[0m \u001b[0mdriver\u001b[0m\u001b[0;34m.\u001b[0m\u001b[0mfind_element_by_xpath\u001b[0m\u001b[0;34m(\u001b[0m\u001b[0;34m'//*[@id=\"sp_local_1\"]/dl/dt/a'\u001b[0m\u001b[0;34m)\u001b[0m\u001b[0;34m\u001b[0m\u001b[0;34m\u001b[0m\u001b[0m\n\u001b[0m\u001b[1;32m      4\u001b[0m         \u001b[0ma\u001b[0m\u001b[0;34m.\u001b[0m\u001b[0mclick\u001b[0m\u001b[0;34m(\u001b[0m\u001b[0;34m)\u001b[0m\u001b[0;34m\u001b[0m\u001b[0;34m\u001b[0m\u001b[0m\n\u001b[1;32m      5\u001b[0m         \u001b[0mdriver\u001b[0m\u001b[0;34m.\u001b[0m\u001b[0mimplicitly_wait\u001b[0m\u001b[0;34m(\u001b[0m\u001b[0;36m1\u001b[0m\u001b[0;34m)\u001b[0m\u001b[0;34m\u001b[0m\u001b[0;34m\u001b[0m\u001b[0m\n",
      "\u001b[0;32m~/PycharmProjects/untitled/venv/lib/python3.7/site-packages/selenium/webdriver/remote/webdriver.py\u001b[0m in \u001b[0;36mfind_element_by_xpath\u001b[0;34m(self, xpath)\u001b[0m\n\u001b[1;32m    392\u001b[0m             \u001b[0melement\u001b[0m \u001b[0;34m=\u001b[0m \u001b[0mdriver\u001b[0m\u001b[0;34m.\u001b[0m\u001b[0mfind_element_by_xpath\u001b[0m\u001b[0;34m(\u001b[0m\u001b[0;34m'//div/td[1]'\u001b[0m\u001b[0;34m)\u001b[0m\u001b[0;34m\u001b[0m\u001b[0;34m\u001b[0m\u001b[0m\n\u001b[1;32m    393\u001b[0m         \"\"\"\n\u001b[0;32m--> 394\u001b[0;31m         \u001b[0;32mreturn\u001b[0m \u001b[0mself\u001b[0m\u001b[0;34m.\u001b[0m\u001b[0mfind_element\u001b[0m\u001b[0;34m(\u001b[0m\u001b[0mby\u001b[0m\u001b[0;34m=\u001b[0m\u001b[0mBy\u001b[0m\u001b[0;34m.\u001b[0m\u001b[0mXPATH\u001b[0m\u001b[0;34m,\u001b[0m \u001b[0mvalue\u001b[0m\u001b[0;34m=\u001b[0m\u001b[0mxpath\u001b[0m\u001b[0;34m)\u001b[0m\u001b[0;34m\u001b[0m\u001b[0;34m\u001b[0m\u001b[0m\n\u001b[0m\u001b[1;32m    395\u001b[0m \u001b[0;34m\u001b[0m\u001b[0m\n\u001b[1;32m    396\u001b[0m     \u001b[0;32mdef\u001b[0m \u001b[0mfind_elements_by_xpath\u001b[0m\u001b[0;34m(\u001b[0m\u001b[0mself\u001b[0m\u001b[0;34m,\u001b[0m \u001b[0mxpath\u001b[0m\u001b[0;34m)\u001b[0m\u001b[0;34m:\u001b[0m\u001b[0;34m\u001b[0m\u001b[0;34m\u001b[0m\u001b[0m\n",
      "\u001b[0;32m~/PycharmProjects/untitled/venv/lib/python3.7/site-packages/selenium/webdriver/remote/webdriver.py\u001b[0m in \u001b[0;36mfind_element\u001b[0;34m(self, by, value)\u001b[0m\n\u001b[1;32m    976\u001b[0m         return self.execute(Command.FIND_ELEMENT, {\n\u001b[1;32m    977\u001b[0m             \u001b[0;34m'using'\u001b[0m\u001b[0;34m:\u001b[0m \u001b[0mby\u001b[0m\u001b[0;34m,\u001b[0m\u001b[0;34m\u001b[0m\u001b[0;34m\u001b[0m\u001b[0m\n\u001b[0;32m--> 978\u001b[0;31m             'value': value})['value']\n\u001b[0m\u001b[1;32m    979\u001b[0m \u001b[0;34m\u001b[0m\u001b[0m\n\u001b[1;32m    980\u001b[0m     \u001b[0;32mdef\u001b[0m \u001b[0mfind_elements\u001b[0m\u001b[0;34m(\u001b[0m\u001b[0mself\u001b[0m\u001b[0;34m,\u001b[0m \u001b[0mby\u001b[0m\u001b[0;34m=\u001b[0m\u001b[0mBy\u001b[0m\u001b[0;34m.\u001b[0m\u001b[0mID\u001b[0m\u001b[0;34m,\u001b[0m \u001b[0mvalue\u001b[0m\u001b[0;34m=\u001b[0m\u001b[0;32mNone\u001b[0m\u001b[0;34m)\u001b[0m\u001b[0;34m:\u001b[0m\u001b[0;34m\u001b[0m\u001b[0;34m\u001b[0m\u001b[0m\n",
      "\u001b[0;32m~/PycharmProjects/untitled/venv/lib/python3.7/site-packages/selenium/webdriver/remote/webdriver.py\u001b[0m in \u001b[0;36mexecute\u001b[0;34m(self, driver_command, params)\u001b[0m\n\u001b[1;32m    319\u001b[0m         \u001b[0mresponse\u001b[0m \u001b[0;34m=\u001b[0m \u001b[0mself\u001b[0m\u001b[0;34m.\u001b[0m\u001b[0mcommand_executor\u001b[0m\u001b[0;34m.\u001b[0m\u001b[0mexecute\u001b[0m\u001b[0;34m(\u001b[0m\u001b[0mdriver_command\u001b[0m\u001b[0;34m,\u001b[0m \u001b[0mparams\u001b[0m\u001b[0;34m)\u001b[0m\u001b[0;34m\u001b[0m\u001b[0;34m\u001b[0m\u001b[0m\n\u001b[1;32m    320\u001b[0m         \u001b[0;32mif\u001b[0m \u001b[0mresponse\u001b[0m\u001b[0;34m:\u001b[0m\u001b[0;34m\u001b[0m\u001b[0;34m\u001b[0m\u001b[0m\n\u001b[0;32m--> 321\u001b[0;31m             \u001b[0mself\u001b[0m\u001b[0;34m.\u001b[0m\u001b[0merror_handler\u001b[0m\u001b[0;34m.\u001b[0m\u001b[0mcheck_response\u001b[0m\u001b[0;34m(\u001b[0m\u001b[0mresponse\u001b[0m\u001b[0;34m)\u001b[0m\u001b[0;34m\u001b[0m\u001b[0;34m\u001b[0m\u001b[0m\n\u001b[0m\u001b[1;32m    322\u001b[0m             response['value'] = self._unwrap_value(\n\u001b[1;32m    323\u001b[0m                 response.get('value', None))\n",
      "\u001b[0;32m~/PycharmProjects/untitled/venv/lib/python3.7/site-packages/selenium/webdriver/remote/errorhandler.py\u001b[0m in \u001b[0;36mcheck_response\u001b[0;34m(self, response)\u001b[0m\n\u001b[1;32m    240\u001b[0m                 \u001b[0malert_text\u001b[0m \u001b[0;34m=\u001b[0m \u001b[0mvalue\u001b[0m\u001b[0;34m[\u001b[0m\u001b[0;34m'alert'\u001b[0m\u001b[0;34m]\u001b[0m\u001b[0;34m.\u001b[0m\u001b[0mget\u001b[0m\u001b[0;34m(\u001b[0m\u001b[0;34m'text'\u001b[0m\u001b[0;34m)\u001b[0m\u001b[0;34m\u001b[0m\u001b[0;34m\u001b[0m\u001b[0m\n\u001b[1;32m    241\u001b[0m             \u001b[0;32mraise\u001b[0m \u001b[0mexception_class\u001b[0m\u001b[0;34m(\u001b[0m\u001b[0mmessage\u001b[0m\u001b[0;34m,\u001b[0m \u001b[0mscreen\u001b[0m\u001b[0;34m,\u001b[0m \u001b[0mstacktrace\u001b[0m\u001b[0;34m,\u001b[0m \u001b[0malert_text\u001b[0m\u001b[0;34m)\u001b[0m\u001b[0;34m\u001b[0m\u001b[0;34m\u001b[0m\u001b[0m\n\u001b[0;32m--> 242\u001b[0;31m         \u001b[0;32mraise\u001b[0m \u001b[0mexception_class\u001b[0m\u001b[0;34m(\u001b[0m\u001b[0mmessage\u001b[0m\u001b[0;34m,\u001b[0m \u001b[0mscreen\u001b[0m\u001b[0;34m,\u001b[0m \u001b[0mstacktrace\u001b[0m\u001b[0;34m)\u001b[0m\u001b[0;34m\u001b[0m\u001b[0;34m\u001b[0m\u001b[0m\n\u001b[0m\u001b[1;32m    243\u001b[0m \u001b[0;34m\u001b[0m\u001b[0m\n\u001b[1;32m    244\u001b[0m     \u001b[0;32mdef\u001b[0m \u001b[0m_value_or_default\u001b[0m\u001b[0;34m(\u001b[0m\u001b[0mself\u001b[0m\u001b[0;34m,\u001b[0m \u001b[0mobj\u001b[0m\u001b[0;34m,\u001b[0m \u001b[0mkey\u001b[0m\u001b[0;34m,\u001b[0m \u001b[0mdefault\u001b[0m\u001b[0;34m)\u001b[0m\u001b[0;34m:\u001b[0m\u001b[0;34m\u001b[0m\u001b[0;34m\u001b[0m\u001b[0m\n",
      "\u001b[0;31mNoSuchWindowException\u001b[0m: Message: no such window: target window already closed\nfrom unknown error: web view not found\n  (Session info: chrome=75.0.3770.142)\n"
     ],
     "ename": "NoSuchWindowException",
     "evalue": "Message: no such window: target window already closed\nfrom unknown error: web view not found\n  (Session info: chrome=75.0.3770.142)\n",
     "output_type": "error"
    }
   ],
   "source": [
    "make_request()\n",
    "\n",
    "\n"
   ]
  },
  {
   "cell_type": "code",
   "execution_count": null,
   "metadata": {
    "pycharm": {
     "name": "#%%\n"
    }
   },
   "outputs": [],
   "source": [
    "\n"
   ]
  }
 ],
 "metadata": {
  "kernelspec": {
   "display_name": "Python 3",
   "language": "python",
   "name": "python3"
  },
  "language_info": {
   "codemirror_mode": {
    "name": "ipython",
    "version": 3
   },
   "file_extension": ".py",
   "mimetype": "text/x-python",
   "name": "python",
   "nbconvert_exporter": "python",
   "pygments_lexer": "ipython3",
   "version": "3.7.3"
  },
  "pycharm": {
   "stem_cell": {
    "cell_type": "raw",
    "metadata": {
     "collapsed": false
    },
    "source": []
   }
  }
 },
 "nbformat": 4,
 "nbformat_minor": 1
}