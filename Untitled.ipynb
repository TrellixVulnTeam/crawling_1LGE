{
 "cells": [
  {
   "cell_type": "code",
   "execution_count": 1,
   "metadata": {
    "pycharm": {
     "is_executing": false
    }
   },
   "outputs": [],
   "source": [
    "from selenium import webdriver\n",
    "from selenium.common.exceptions import NoSuchElementException\n",
    "from urllib.error import HTTPError\n",
    "from bs4 import BeautifulSoup\n",
    "import pandas as pd\n",
    "import urllib.request\n",
    "product_file_path = '/home/soohyeon/'\n",
    "product_file_name = 'test.txt'\n",
    "\n",
    "#-*- coding:utf-8 -*-\n",
    "import sys\n",
    "food_id = list()\n",
    "food_city = list()\n",
    "food_category = list()\n",
    "food_small_category = list()\n",
    "food_name = list()\n",
    "food_price = list()\n",
    "food_call_num = list()\n",
    "food_date = list()\n",
    "food_location = list()\n",
    "food_picture_url = list()\n",
    "food_menu = list()"
   ]
  },
  {
   "cell_type": "code",
   "execution_count": 2,
   "metadata": {
    "pycharm": {
     "is_executing": false
    }
   },
   "outputs": [],
   "source": [
    "def main_crawling():\n",
    "    product_file = open(product_file_path + product_file_name, 'r')\n",
    "    \n",
    "    for product_name in product_file.readlines():\n",
    "        try:\n",
    "            driver = webdriver.Chrome('/home/soohyeon/다운로드/chromedriver')\n",
    "\n",
    "            url = 'https://www.mangoplate.com/search/' + product_name\n",
    "\n",
    "            driver.get(url)\n",
    "            driver.implicitly_wait(2)\n",
    "            btn = driver.find_element_by_xpath('//*[@id=\"ad\"]/div/button[1]')\n",
    "            btn.click()\n",
    "            driver.implicitly_wait(2)\n",
    "            \n",
    "            name =  driver.find_element_by_xpath('/html/body/main/article/div[2]/div/div/section/div[3]/ul/li[1]/div/figure/figcaption/div/a/h2')\n",
    "            name.click()\n",
    "            \n",
    "            crawling(driver)\n",
    "        except NoSuchElementException:\n",
    "            pass\n",
    "    product_file.close()\n",
    "            "
   ]
  },
  {
   "cell_type": "code",
   "execution_count": 3,
   "metadata": {
    "pycharm": {
     "is_executing": false,
     "name": "#%%\n"
    }
   },
   "outputs": [],
   "source": [
    "def crawling(driver):\n",
    "    testList = list()\n",
    "    testList.append(driver.find_element_by_css_selector('body > main > article > div.column-wrapper > div.column-contents > div > section.restaurant-detail > table').text)\n",
    "    print(testList)\n",
    "    \n",
    "    # food_name.append(driver.find_element_by_css_selector(\"body > main > article > div.column-wrapper > div.column-contents > div > section.restaurant-detail > header > div.restaurant_title_wrap > span > h1\").text)\n",
    "    # food_small_category.append(driver.find_element_by_css_selector(\"body > main > article > div.column-wrapper > div.column-contents > div > section.restaurant-detail > table > tbody > tr:nth-child(3) > td > span\").text)\n",
    "    # food_picture_url.append(driver.find_element_by_css_selector(\"body > main > article > aside.restaurant-photos > div > div.owl-wrapper-outer > div > div:nth-child(1) > figure > figure > img\").get_attribute(\"src\"))\n",
    "    # food_price.append(driver.find_elemnet_by_css_selector(\"body > main > article > div.column-wrapper > div.column-contents > div > section.restaurant-detail > table > tbody > tr:nth-child(4) > td\").text)\n",
    "    # food_menu.append(driver.find_element_by_css_selector(\"#content > div:nth-child(2) > div.bizinfo_area > div > div.list_item.list_item_menu > div\").text)\n",
    "    # food_date.append(driver.find_element_by_css_selector(\"body > main > article > div.column-wrapper > div.column-contents > div > section.restaurant-detail > table > tbody > tr:nth-child(6) > td\").text)\n",
    "    # food_call_num.append(driver.find_element_by_css_selector(\"body > main > article > div.column-wrapper > div.column-contents > div > section.restaurant-detail > table > tbody > tr:nth-child(2) > td\").text)\n",
    "    # food_location.append(driver.find_element_by_css_selector(\"body > main > article > div.column-wrapper > div.column-contents > div > section.restaurant-detail > table > tbody > tr:nth-child(1) > td\").text)\n",
    "    \n",
    "    driver.close()"
   ]
  },
  {
   "cell_type": "code",
   "execution_count": 5,
   "outputs": [
    {
     "traceback": [
      "\u001b[0;31m---------------------------------------------------------------------------\u001b[0m",
      "\u001b[0;31mAttributeError\u001b[0m                            Traceback (most recent call last)",
      "\u001b[0;32m<ipython-input-5-deb53b63084e>\u001b[0m in \u001b[0;36m<module>\u001b[0;34m\u001b[0m\n\u001b[0;32m----> 1\u001b[0;31m \u001b[0mmain_crawling\u001b[0m\u001b[0;34m(\u001b[0m\u001b[0;34m)\u001b[0m\u001b[0;34m\u001b[0m\u001b[0;34m\u001b[0m\u001b[0m\n\u001b[0m\u001b[1;32m      2\u001b[0m \u001b[0;34m\u001b[0m\u001b[0m\n",
      "\u001b[0;32m<ipython-input-2-bdd32afaa228>\u001b[0m in \u001b[0;36mmain_crawling\u001b[0;34m()\u001b[0m\n\u001b[1;32m     11\u001b[0m             \u001b[0mdriver\u001b[0m\u001b[0;34m.\u001b[0m\u001b[0mimplicitly_wait\u001b[0m\u001b[0;34m(\u001b[0m\u001b[0;36m2\u001b[0m\u001b[0;34m)\u001b[0m\u001b[0;34m\u001b[0m\u001b[0;34m\u001b[0m\u001b[0m\n\u001b[1;32m     12\u001b[0m             \u001b[0mbtn\u001b[0m \u001b[0;34m=\u001b[0m \u001b[0mdriver\u001b[0m\u001b[0;34m.\u001b[0m\u001b[0mfind_element_by_xpath\u001b[0m\u001b[0;34m(\u001b[0m\u001b[0;34m'//*[@id=\"ad\"]/div/button[1]'\u001b[0m\u001b[0;34m)\u001b[0m\u001b[0;34m\u001b[0m\u001b[0;34m\u001b[0m\u001b[0m\n\u001b[0;32m---> 13\u001b[0;31m             \u001b[0mbtn\u001b[0m\u001b[0;34m.\u001b[0m\u001b[0mclick\u001b[0m\u001b[0;34m(\u001b[0m\u001b[0;34m)\u001b[0m\u001b[0;34m\u001b[0m\u001b[0;34m\u001b[0m\u001b[0m\n\u001b[0m\u001b[1;32m     14\u001b[0m             \u001b[0mdriver\u001b[0m\u001b[0;34m.\u001b[0m\u001b[0mimplicitly_wait\u001b[0m\u001b[0;34m(\u001b[0m\u001b[0;36m2\u001b[0m\u001b[0;34m)\u001b[0m\u001b[0;34m\u001b[0m\u001b[0;34m\u001b[0m\u001b[0m\n\u001b[1;32m     15\u001b[0m \u001b[0;34m\u001b[0m\u001b[0m\n",
      "\u001b[0;31mAttributeError\u001b[0m: 'NoneType' object has no attribute 'click'"
     ],
     "ename": "AttributeError",
     "evalue": "'NoneType' object has no attribute 'click'",
     "output_type": "error"
    }
   ],
   "source": [
    "main_crawling()"
   ],
   "metadata": {
    "collapsed": false,
    "pycharm": {
     "name": "#%%\n",
     "is_executing": false
    }
   }
  },
  {
   "cell_type": "code",
   "execution_count": null,
   "outputs": [],
   "source": [],
   "metadata": {
    "collapsed": false,
    "pycharm": {
     "name": "#%%\n"
    }
   }
  }
 ],
 "metadata": {
  "kernelspec": {
   "display_name": "Python 3",
   "language": "python",
   "name": "python3"
  },
  "language_info": {
   "codemirror_mode": {
    "name": "ipython",
    "version": 3
   },
   "file_extension": ".py",
   "mimetype": "text/x-python",
   "name": "python",
   "nbconvert_exporter": "python",
   "pygments_lexer": "ipython3",
   "version": "3.7.3"
  },
  "pycharm": {
   "stem_cell": {
    "cell_type": "raw",
    "source": [],
    "metadata": {
     "collapsed": false
    }
   }
  }
 },
 "nbformat": 4,
 "nbformat_minor": 2
}