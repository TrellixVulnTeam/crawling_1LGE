{
 "cells": [
  {
   "cell_type": "code",
   "execution_count": 9,
   "metadata": {
    "pycharm": {
     "is_executing": false
    }
   },
   "outputs": [],
   "source": [
    "from selenium import webdriver\n",
    "from selenium.common.exceptions import NoSuchElementException\n",
    "from urllib.error import HTTPError\n",
    "from bs4 import BeautifulSoup\n",
    "import pandas as pd\n",
    "import urllib.request\n",
    "product_file_path = '/home/soohyeon/'\n",
    "product_file_name = 'test.txt'\n",
    "\n",
    "#-*- coding:utf-8 -*-\n",
    "import sys\n",
    "food_id = list()\n",
    "food_city = list()\n",
    "food_category = list()\n",
    "food_small_category = list()\n",
    "food_name = list()\n",
    "food_price = list()\n",
    "food_call_num = list()\n",
    "food_date = list()\n",
    "food_location = list()\n",
    "food_picture_url = list()\n",
    "food_menu = list()"
   ]
  },
  {
   "cell_type": "code",
   "execution_count": 17,
   "metadata": {
    "pycharm": {
     "is_executing": false
    }
   },
   "outputs": [],
   "source": [
    "def main_crawling():\n",
    "    product_file = open(product_file_path + product_file_name, 'r')\n",
    "    \n",
    "    for product_name in product_file.readlines():\n",
    "        try:\n",
    "            driver = webdriver.Chrome('/home/soohyeon/다운로드/chromedriver')\n",
    "\n",
    "            url = 'https://www.mangoplate.com/search/' + product_name\n",
    "\n",
    "            driver.get(url)\n",
    "            driver.implicitly_wait(2)\n",
    "            \n",
    "            name =  driver.find_element_by_xpath('/html/body/main/article/div[2]/div/div/section/div[3]/ul/li[1]/div/figure/figcaption/div/a/h2')\n",
    "            \n",
    "            name.click()\n",
    "            \n",
    "            driver.implicitly_wait(2)\n",
    "\n",
    "            food_name.append(driver.find_element_by_css_selector(\"body > main > article > div.column-wrapper > div.column-contents > div > section.restaurant-detail > header > div.restaurant_title_wrap > span > h1\").text)\n",
    "            print(food_name)\n",
    "            food_small_category.append(driver.find_element_by_css_selector(\"body > main > article > div.column-wrapper > div.column-contents > div > section.restaurant-detail > table > tbody > tr:nth-child(3) > td > span\").text)\n",
    "            print(food_small_category)\n",
    "            food_picture_url.append(driver.find_element_by_css_selector(\"body > main > article > aside.restaurant-photos > div > div.owl-wrapper-outer > div > div:nth-child(1) > figure > figure > img\").get_attribute(\"src\"))\n",
    "            food_price.append(driver.find_elemnet_by_css_selector(\"body > main > article > div.column-wrapper > div.column-contents > div > section.restaurant-detail > table > tbody > tr:nth-child(4) > td\").text)\n",
    "            food_menu.append(driver.find_element_by_css_selector(\"#content > div:nth-child(2) > div.bizinfo_area > div > div.list_item.list_item_menu > div\").text)\n",
    "            food_date.append(driver.find_element_by_css_selector(\"body > main > article > div.column-wrapper > div.column-contents > div > section.restaurant-detail > table > tbody > tr:nth-child(6) > td\").text)\n",
    "            food_call_num.append(driver.find_element_by_css_selector(\"body > main > article > div.column-wrapper > div.column-contents > div > section.restaurant-detail > table > tbody > tr:nth-child(2) > td\").text)\n",
    "            food_location.append(driver.find_element_by_css_selector(\"body > main > article > div.column-wrapper > div.column-contents > div > section.restaurant-detail > table > tbody > tr:nth-child(1) > td\").text)\n",
    "            \n",
    "        except :\n",
    "            pass\n",
    "        driver.close()\n",
    "    product_file.close()\n",
    "            "
   ]
  },
  {
   "cell_type": "code",
   "execution_count": 18,
   "metadata": {
    "pycharm": {
     "is_executing": false
    }
   },
   "outputs": [
    {
     "name": "stdout",
     "output_type": "stream",
     "text": [
      "['황금손가락', '용출횟집', '정성듬뿍제주국', '우진해장국', '황금손가락']\n",
      "['회 / 스시', '해산물 요리', '한정식 / 백반 / 정통 한식', '탕 / 찌개 / 전골', '회 / 스시']\n",
      "['황금손가락', '용출횟집', '정성듬뿍제주국', '우진해장국', '황금손가락', '용출횟집']\n",
      "['회 / 스시', '해산물 요리', '한정식 / 백반 / 정통 한식', '탕 / 찌개 / 전골', '회 / 스시', '해산물 요리']\n",
      "['황금손가락', '용출횟집', '정성듬뿍제주국', '우진해장국', '황금손가락', '용출횟집', '정성듬뿍제주국']\n",
      "['회 / 스시', '해산물 요리', '한정식 / 백반 / 정통 한식', '탕 / 찌개 / 전골', '회 / 스시', '해산물 요리', '한정식 / 백반 / 정통 한식']\n",
      "['황금손가락', '용출횟집', '정성듬뿍제주국', '우진해장국', '황금손가락', '용출횟집', '정성듬뿍제주국', '우진해장국']\n",
      "['회 / 스시', '해산물 요리', '한정식 / 백반 / 정통 한식', '탕 / 찌개 / 전골', '회 / 스시', '해산물 요리', '한정식 / 백반 / 정통 한식', '탕 / 찌개 / 전골']\n",
      "['황금손가락', '용출횟집', '정성듬뿍제주국', '우진해장국', '황금손가락', '용출횟집', '정성듬뿍제주국', '우진해장국', '탁이국수']\n",
      "['회 / 스시', '해산물 요리', '한정식 / 백반 / 정통 한식', '탕 / 찌개 / 전골', '회 / 스시', '해산물 요리', '한정식 / 백반 / 정통 한식', '탕 / 찌개 / 전골', '국수 / 면 요리']\n",
      "['황금손가락', '용출횟집', '정성듬뿍제주국', '우진해장국', '황금손가락', '용출횟집', '정성듬뿍제주국', '우진해장국', '탁이국수', '코코분식']\n",
      "['회 / 스시', '해산물 요리', '한정식 / 백반 / 정통 한식', '탕 / 찌개 / 전골', '회 / 스시', '해산물 요리', '한정식 / 백반 / 정통 한식', '탕 / 찌개 / 전골', '국수 / 면 요리', '국수 / 면 요리']\n",
      "['황금손가락', '용출횟집', '정성듬뿍제주국', '우진해장국', '황금손가락', '용출횟집', '정성듬뿍제주국', '우진해장국', '탁이국수', '코코분식', '삼성혈해물탕']\n",
      "['회 / 스시', '해산물 요리', '한정식 / 백반 / 정통 한식', '탕 / 찌개 / 전골', '회 / 스시', '해산물 요리', '한정식 / 백반 / 정통 한식', '탕 / 찌개 / 전골', '국수 / 면 요리', '국수 / 면 요리', '해산물 요리']\n"
     ]
    },
    {
     "ename": "NoSuchWindowException",
     "evalue": "Message: no such window: target window already closed\nfrom unknown error: web view not found\n  (Session info: chrome=75.0.3770.142)\n",
     "output_type": "error",
     "traceback": [
      "\u001b[0;31m---------------------------------------------------------------------------\u001b[0m",
      "\u001b[0;31mNoSuchWindowException\u001b[0m                     Traceback (most recent call last)",
      "\u001b[0;32m<ipython-input-18-c5ad599de793>\u001b[0m in \u001b[0;36m<module>\u001b[0;34m\u001b[0m\n\u001b[0;32m----> 1\u001b[0;31m \u001b[0mmain_crawling\u001b[0m\u001b[0;34m(\u001b[0m\u001b[0;34m)\u001b[0m\u001b[0;34m\u001b[0m\u001b[0;34m\u001b[0m\u001b[0m\n\u001b[0m",
      "\u001b[0;32m<ipython-input-17-152ca4edebe5>\u001b[0m in \u001b[0;36mmain_crawling\u001b[0;34m()\u001b[0m\n\u001b[1;32m     30\u001b[0m         \u001b[0;32mexcept\u001b[0m \u001b[0;34m:\u001b[0m\u001b[0;34m\u001b[0m\u001b[0;34m\u001b[0m\u001b[0m\n\u001b[1;32m     31\u001b[0m             \u001b[0;32mpass\u001b[0m\u001b[0;34m\u001b[0m\u001b[0;34m\u001b[0m\u001b[0m\n\u001b[0;32m---> 32\u001b[0;31m         \u001b[0mdriver\u001b[0m\u001b[0;34m.\u001b[0m\u001b[0mclose\u001b[0m\u001b[0;34m(\u001b[0m\u001b[0;34m)\u001b[0m\u001b[0;34m\u001b[0m\u001b[0;34m\u001b[0m\u001b[0m\n\u001b[0m\u001b[1;32m     33\u001b[0m     \u001b[0mproduct_file\u001b[0m\u001b[0;34m.\u001b[0m\u001b[0mclose\u001b[0m\u001b[0;34m(\u001b[0m\u001b[0;34m)\u001b[0m\u001b[0;34m\u001b[0m\u001b[0;34m\u001b[0m\u001b[0m\n\u001b[1;32m     34\u001b[0m \u001b[0;34m\u001b[0m\u001b[0m\n",
      "\u001b[0;32m~/PycharmProjects/untitled/venv/lib/python3.7/site-packages/selenium/webdriver/remote/webdriver.py\u001b[0m in \u001b[0;36mclose\u001b[0;34m(self)\u001b[0m\n\u001b[1;32m    686\u001b[0m             \u001b[0mdriver\u001b[0m\u001b[0;34m.\u001b[0m\u001b[0mclose\u001b[0m\u001b[0;34m(\u001b[0m\u001b[0;34m)\u001b[0m\u001b[0;34m\u001b[0m\u001b[0;34m\u001b[0m\u001b[0m\n\u001b[1;32m    687\u001b[0m         \"\"\"\n\u001b[0;32m--> 688\u001b[0;31m         \u001b[0mself\u001b[0m\u001b[0;34m.\u001b[0m\u001b[0mexecute\u001b[0m\u001b[0;34m(\u001b[0m\u001b[0mCommand\u001b[0m\u001b[0;34m.\u001b[0m\u001b[0mCLOSE\u001b[0m\u001b[0;34m)\u001b[0m\u001b[0;34m\u001b[0m\u001b[0;34m\u001b[0m\u001b[0m\n\u001b[0m\u001b[1;32m    689\u001b[0m \u001b[0;34m\u001b[0m\u001b[0m\n\u001b[1;32m    690\u001b[0m     \u001b[0;32mdef\u001b[0m \u001b[0mquit\u001b[0m\u001b[0;34m(\u001b[0m\u001b[0mself\u001b[0m\u001b[0;34m)\u001b[0m\u001b[0;34m:\u001b[0m\u001b[0;34m\u001b[0m\u001b[0;34m\u001b[0m\u001b[0m\n",
      "\u001b[0;32m~/PycharmProjects/untitled/venv/lib/python3.7/site-packages/selenium/webdriver/remote/webdriver.py\u001b[0m in \u001b[0;36mexecute\u001b[0;34m(self, driver_command, params)\u001b[0m\n\u001b[1;32m    319\u001b[0m         \u001b[0mresponse\u001b[0m \u001b[0;34m=\u001b[0m \u001b[0mself\u001b[0m\u001b[0;34m.\u001b[0m\u001b[0mcommand_executor\u001b[0m\u001b[0;34m.\u001b[0m\u001b[0mexecute\u001b[0m\u001b[0;34m(\u001b[0m\u001b[0mdriver_command\u001b[0m\u001b[0;34m,\u001b[0m \u001b[0mparams\u001b[0m\u001b[0;34m)\u001b[0m\u001b[0;34m\u001b[0m\u001b[0;34m\u001b[0m\u001b[0m\n\u001b[1;32m    320\u001b[0m         \u001b[0;32mif\u001b[0m \u001b[0mresponse\u001b[0m\u001b[0;34m:\u001b[0m\u001b[0;34m\u001b[0m\u001b[0;34m\u001b[0m\u001b[0m\n\u001b[0;32m--> 321\u001b[0;31m             \u001b[0mself\u001b[0m\u001b[0;34m.\u001b[0m\u001b[0merror_handler\u001b[0m\u001b[0;34m.\u001b[0m\u001b[0mcheck_response\u001b[0m\u001b[0;34m(\u001b[0m\u001b[0mresponse\u001b[0m\u001b[0;34m)\u001b[0m\u001b[0;34m\u001b[0m\u001b[0;34m\u001b[0m\u001b[0m\n\u001b[0m\u001b[1;32m    322\u001b[0m             response['value'] = self._unwrap_value(\n\u001b[1;32m    323\u001b[0m                 response.get('value', None))\n",
      "\u001b[0;32m~/PycharmProjects/untitled/venv/lib/python3.7/site-packages/selenium/webdriver/remote/errorhandler.py\u001b[0m in \u001b[0;36mcheck_response\u001b[0;34m(self, response)\u001b[0m\n\u001b[1;32m    240\u001b[0m                 \u001b[0malert_text\u001b[0m \u001b[0;34m=\u001b[0m \u001b[0mvalue\u001b[0m\u001b[0;34m[\u001b[0m\u001b[0;34m'alert'\u001b[0m\u001b[0;34m]\u001b[0m\u001b[0;34m.\u001b[0m\u001b[0mget\u001b[0m\u001b[0;34m(\u001b[0m\u001b[0;34m'text'\u001b[0m\u001b[0;34m)\u001b[0m\u001b[0;34m\u001b[0m\u001b[0;34m\u001b[0m\u001b[0m\n\u001b[1;32m    241\u001b[0m             \u001b[0;32mraise\u001b[0m \u001b[0mexception_class\u001b[0m\u001b[0;34m(\u001b[0m\u001b[0mmessage\u001b[0m\u001b[0;34m,\u001b[0m \u001b[0mscreen\u001b[0m\u001b[0;34m,\u001b[0m \u001b[0mstacktrace\u001b[0m\u001b[0;34m,\u001b[0m \u001b[0malert_text\u001b[0m\u001b[0;34m)\u001b[0m\u001b[0;34m\u001b[0m\u001b[0;34m\u001b[0m\u001b[0m\n\u001b[0;32m--> 242\u001b[0;31m         \u001b[0;32mraise\u001b[0m \u001b[0mexception_class\u001b[0m\u001b[0;34m(\u001b[0m\u001b[0mmessage\u001b[0m\u001b[0;34m,\u001b[0m \u001b[0mscreen\u001b[0m\u001b[0;34m,\u001b[0m \u001b[0mstacktrace\u001b[0m\u001b[0;34m)\u001b[0m\u001b[0;34m\u001b[0m\u001b[0;34m\u001b[0m\u001b[0m\n\u001b[0m\u001b[1;32m    243\u001b[0m \u001b[0;34m\u001b[0m\u001b[0m\n\u001b[1;32m    244\u001b[0m     \u001b[0;32mdef\u001b[0m \u001b[0m_value_or_default\u001b[0m\u001b[0;34m(\u001b[0m\u001b[0mself\u001b[0m\u001b[0;34m,\u001b[0m \u001b[0mobj\u001b[0m\u001b[0;34m,\u001b[0m \u001b[0mkey\u001b[0m\u001b[0;34m,\u001b[0m \u001b[0mdefault\u001b[0m\u001b[0;34m)\u001b[0m\u001b[0;34m:\u001b[0m\u001b[0;34m\u001b[0m\u001b[0;34m\u001b[0m\u001b[0m\n",
      "\u001b[0;31mNoSuchWindowException\u001b[0m: Message: no such window: target window already closed\nfrom unknown error: web view not found\n  (Session info: chrome=75.0.3770.142)\n"
     ]
    }
   ],
   "source": [
    "main_crawling()"
   ]
  },
  {
   "cell_type": "code",
   "execution_count": 26,
   "metadata": {},
   "outputs": [
    {
     "name": "stdout",
     "output_type": "stream",
     "text": [
      "['황금손가락', '용출횟집', '정성듬뿍제주국', '우진해장국', '황금손가락', '용출횟집', '정성듬뿍제주국', '우진해장국', '탁이국수', '코코분식', '삼성혈해물탕']\n"
     ]
    }
   ],
   "source": [
    "\n",
    "print(food_)\n"
   ]
  },
  {
   "cell_type": "code",
   "execution_count": null,
   "metadata": {},
   "outputs": [],
   "source": []
  }
 ],
 "metadata": {
  "kernelspec": {
   "display_name": "Python 3",
   "language": "python",
   "name": "python3"
  },
  "language_info": {
   "codemirror_mode": {
    "name": "ipython",
    "version": 3
   },
   "file_extension": ".py",
   "mimetype": "text/x-python",
   "name": "python",
   "nbconvert_exporter": "python",
   "pygments_lexer": "ipython3",
   "version": "3.7.3"
  },
  "pycharm": {
   "stem_cell": {
    "cell_type": "raw",
    "metadata": {
     "collapsed": false
    },
    "source": []
   }
  }
 },
 "nbformat": 4,
 "nbformat_minor": 2
}
